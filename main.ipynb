{
 "cells": [
  {
   "cell_type": "code",
   "execution_count": 42,
   "metadata": {},
   "outputs": [
    {
     "name": "stdout",
     "output_type": "stream",
     "text": [
      "Requirement already satisfied: opencv-contrib-python-headless in /Library/Frameworks/Python.framework/Versions/3.11/lib/python3.11/site-packages (4.8.0.74)\n",
      "Requirement already satisfied: numpy>=1.21.2 in /Library/Frameworks/Python.framework/Versions/3.11/lib/python3.11/site-packages (from opencv-contrib-python-headless) (1.23.5)\n",
      "Requirement already satisfied: opencv-python in /Library/Frameworks/Python.framework/Versions/3.11/lib/python3.11/site-packages (4.8.0.74)\n",
      "Requirement already satisfied: numpy>=1.21.2 in /Library/Frameworks/Python.framework/Versions/3.11/lib/python3.11/site-packages (from opencv-python) (1.23.5)\n"
     ]
    }
   ],
   "source": [
    "!pip3 install opencv-contrib-python-headless\n",
    "!pip3 install opencv-python"
   ]
  },
  {
   "cell_type": "code",
   "execution_count": 60,
   "metadata": {},
   "outputs": [],
   "source": [
    "import cv2 as cv\n",
    "labels_file = '/Users/a2022/Downloads/labels.txt' \n",
    "classlabels=[]\n",
    "config_file='/Users/a2022/Downloads/ssd_mobilenet_v3_large_coco_2020_01_14.pbtxt'\n",
    "frozen_model='/Users/a2022/Downloads/frozen_inference_graph.pb'\n",
    "\n",
    "with open(labels_file, 'rt') as ftp:\n",
    "    classlabels = ftp.read().strip('\\n').split('\\n')\n"
   ]
  },
  {
   "cell_type": "code",
   "execution_count": 61,
   "metadata": {},
   "outputs": [
    {
     "name": "stdout",
     "output_type": "stream",
     "text": [
      "['person', 'bicycle', 'car', 'motorbike', 'aeroplane', 'bus', 'train', 'truck', 'boat', 'traffic light', 'fire hydrant', 'stop sign', 'parking meter', 'bench', 'bird', 'cat', 'dog', 'horse', 'sheep', 'cow', 'elephant', 'bear', 'zebra', 'giraffe', 'backpack', 'umbrella', 'handbag', 'tie', 'suitcase', 'frisbee', 'skis', 'snowboard', 'sports ball', 'kite', 'baseball bat', 'baseball glove', 'skateboard', 'surfboard', 'tennis racket', 'bottle', 'wine glass', 'cup', 'fork', 'knife', 'spoon', 'bowl', 'banana', 'apple', 'sandwich', 'orange', 'broccoli', 'carrot', 'hot dog', 'pizza', 'donut', 'cake', 'chair', 'sofa', 'pottedplant', 'bed', 'diningtable', 'toilet', 'tvmonitor', 'laptop', 'mouse', 'remote', 'keyboard', 'cell phone', 'microwave', 'oven', 'toaster', 'sink', 'refrigerator', 'book', 'clock', 'vase', 'scissors', 'teddy bear', 'hair drier', 'toothbrush']\n"
     ]
    }
   ],
   "source": [
    "print(classlabels)"
   ]
  },
  {
   "cell_type": "code",
   "execution_count": 62,
   "metadata": {},
   "outputs": [
    {
     "name": "stdout",
     "output_type": "stream",
     "text": [
      "80\n"
     ]
    }
   ],
   "source": [
    "print(len(classlabels))"
   ]
  },
  {
   "cell_type": "code",
   "execution_count": 64,
   "metadata": {},
   "outputs": [
    {
     "name": "stdout",
     "output_type": "stream",
     "text": [
      "[86 70]\n"
     ]
    }
   ],
   "source": [
    "model = cv.dnn.DetectionModel(frozen_model, config_file)\n",
    "model.setInputSize(300,300)\n",
    "model.setInputScale(1.0/127.5)\n",
    "model.setInputMean((127.5,127.5,127.5))\n",
    "model.setInputSwapRB(True)\n",
    "\n",
    "image = cv.imread('/Users/a2022/Downloads/cup-lean-party-vector.jpeg')\n",
    "\n",
    "ClassIndex, Confidence,bbox = model.detect(image, confThreshold=0.5)\n",
    "\n",
    "print(ClassIndex)"
   ]
  },
  {
   "cell_type": "code",
   "execution_count": 59,
   "metadata": {},
   "outputs": [
    {
     "ename": "IndexError",
     "evalue": "list index out of range",
     "output_type": "error",
     "traceback": [
      "\u001b[0;31m---------------------------------------------------------------------------\u001b[0m",
      "\u001b[0;31mIndexError\u001b[0m                                Traceback (most recent call last)",
      "Cell \u001b[0;32mIn[59], line 3\u001b[0m\n\u001b[1;32m      1\u001b[0m \u001b[39mfor\u001b[39;00m classind, conf, box \u001b[39min\u001b[39;00m \u001b[39mzip\u001b[39m(ClassIndex\u001b[39m.\u001b[39mflatten(), Confidence\u001b[39m.\u001b[39mflatten(), bbox):\n\u001b[1;32m      2\u001b[0m     cv\u001b[39m.\u001b[39mrectangle(image, box,(\u001b[39m255\u001b[39m,\u001b[39m0\u001b[39m,\u001b[39m0\u001b[39m),\u001b[39m1\u001b[39m )\n\u001b[0;32m----> 3\u001b[0m     cv\u001b[39m.\u001b[39mputText(image, classlabels[classind\u001b[39m-\u001b[39;49m\u001b[39m1\u001b[39;49m], (box[\u001b[39m0\u001b[39m]\u001b[39m+\u001b[39m\u001b[39m10\u001b[39m, box[\u001b[39m1\u001b[39m]\u001b[39m+\u001b[39m\u001b[39m40\u001b[39m), cv\u001b[39m.\u001b[39mFONT_HERSHEY_SCRIPT_COMPLEX, \u001b[39m3\u001b[39m, (\u001b[39m255\u001b[39m,\u001b[39m0\u001b[39m,\u001b[39m0\u001b[39m),\u001b[39m1\u001b[39m )\n\u001b[1;32m      4\u001b[0m cv\u001b[39m.\u001b[39mimshow(\u001b[39m'\u001b[39m\u001b[39moutput\u001b[39m\u001b[39m'\u001b[39m, image)\n\u001b[1;32m      5\u001b[0m \u001b[39mif\u001b[39;00m cv\u001b[39m.\u001b[39mwaitKey(\u001b[39m0\u001b[39m):\n",
      "\u001b[0;31mIndexError\u001b[0m: list index out of range"
     ]
    }
   ],
   "source": [
    "for classind, conf, box in zip(ClassIndex.flatten(), Confidence.flatten(), bbox):\n",
    "    cv.rectangle(image, box,(255,0,0),1 )\n",
    "    cv.putText(image, classlabels[classind-1], (box[0]+10, box[1]+40), cv.FONT_HERSHEY_SCRIPT_COMPLEX, 3, (255,0,0),1 )\n",
    "cv.imshow('output', image)\n",
    "if cv.waitKey(0):\n",
    "    cv.destroyAllWindows()"
   ]
  }
 ],
 "metadata": {
  "kernelspec": {
   "display_name": "Python 3.10.7 64-bit",
   "language": "python",
   "name": "python3"
  },
  "language_info": {
   "codemirror_mode": {
    "name": "ipython",
    "version": 3
   },
   "file_extension": ".py",
   "mimetype": "text/x-python",
   "name": "python",
   "nbconvert_exporter": "python",
   "pygments_lexer": "ipython3",
   "version": "3.11.4"
  },
  "orig_nbformat": 4,
  "vscode": {
   "interpreter": {
    "hash": "aee8b7b246df8f9039afb4144a1f6fd8d2ca17a180786b69acc140d282b71a49"
   }
  }
 },
 "nbformat": 4,
 "nbformat_minor": 2
}
